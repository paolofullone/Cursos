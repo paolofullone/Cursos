{
 "cells": [
  {
   "cell_type": "code",
   "execution_count": null,
   "metadata": {},
   "outputs": [],
   "source": [
    "int sumBy3(int n, int x)\n",
    "    print(\"We are at: \" + n);\n",
    "    if (n <= 1)\n",
    "        return x;\n",
    "    else\n",
    "        return sumBy3(n - 1, x + 3);\n",
    "\n"
   ]
  },
  {
   "cell_type": "code",
   "execution_count": null,
   "metadata": {},
   "outputs": [],
   "source": [
    "sumBy3(16, 0)"
   ]
  }
 ],
 "metadata": {
  "language_info": {
   "name": "python"
  },
  "orig_nbformat": 4
 },
 "nbformat": 4,
 "nbformat_minor": 2
}
